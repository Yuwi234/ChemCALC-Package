{
 "cells": [
  {
   "cell_type": "code",
   "execution_count": null,
   "id": "040cc10d-ca02-49ed-aa57-ef9b241b4f2c",
   "metadata": {},
   "outputs": [],
   "source": []
  },
  {
   "cell_type": "code",
   "execution_count": null,
   "id": "08ca4ee3-9d3e-405d-82a5-02ed70913729",
   "metadata": {},
   "outputs": [],
   "source": [
    "from setuptools import setup, find_packages\n",
    "\n",
    "setup(\n",
    "    name='chemical_engineering_tools', \n",
    "    version='0.1.0',  \n",
    "    description='A package for chemical calculations including mass balance, energy balance, and stoichiometry assistance.',\n",
    "    author='Boss Erika',\n",
    "    url='https://github.com/yourusername/chemcalc',  # Replace with your project's URL\n",
    "    packages=find_packages(),  # Automatically find packages in the directory\n",
    "    classifiers=[\n",
    "        'Programming Language :: Python :: 3',\n",
    "        'License :: OSI Approved :: MIT License',\n",
    "        'Operating System :: OS Independent',\n",
    "    ],\n",
    "    python_requires='>=3.6',\n",
    "    install_requires=[\n",
    "        # List your project's dependencies here, e.g.,\n",
    "        # 'numpy>=1.18.0',\n",
    "    ],\n",
    ")\n"
   ]
  }
 ],
 "metadata": {
  "kernelspec": {
   "display_name": "Python 3 (ipykernel)",
   "language": "python",
   "name": "python3"
  },
  "language_info": {
   "codemirror_mode": {
    "name": "ipython",
    "version": 3
   },
   "file_extension": ".py",
   "mimetype": "text/x-python",
   "name": "python",
   "nbconvert_exporter": "python",
   "pygments_lexer": "ipython3",
   "version": "3.12.4"
  }
 },
 "nbformat": 4,
 "nbformat_minor": 5
}
