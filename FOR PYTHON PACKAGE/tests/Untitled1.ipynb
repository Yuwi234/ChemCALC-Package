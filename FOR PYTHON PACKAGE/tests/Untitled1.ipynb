{
 "cells": [
  {
   "cell_type": "code",
   "execution_count": 5,
   "id": "4783527a-fb23-4e4c-981c-a3114c430249",
   "metadata": {},
   "outputs": [],
   "source": [
    "from chemical_engineering_tools import MassBalanceSolver"
   ]
  },
  {
   "cell_type": "code",
   "execution_count": 7,
   "id": "eda0f092-23a8-47c2-821e-66115aba798b",
   "metadata": {},
   "outputs": [
    {
     "name": "stdout",
     "output_type": "stream",
     "text": [
      "<chemical_engineering_tools.mass_balance_solver.MassBalanceSolver object at 0x0000020D73F27AD0>\n"
     ]
    }
   ],
   "source": [
    "from chemical_engineering_tools import MassBalanceSolver\n",
    "\n",
    "solver = MassBalanceSolver()\n",
    "print(solver)\n"
   ]
  },
  {
   "cell_type": "code",
   "execution_count": null,
   "id": "8994a236-d9b7-418d-a0e4-f35763d1c542",
   "metadata": {},
   "outputs": [],
   "source": []
  }
 ],
 "metadata": {
  "kernelspec": {
   "display_name": "Python 3 (ipykernel)",
   "language": "python",
   "name": "python3"
  },
  "language_info": {
   "codemirror_mode": {
    "name": "ipython",
    "version": 3
   },
   "file_extension": ".py",
   "mimetype": "text/x-python",
   "name": "python",
   "nbconvert_exporter": "python",
   "pygments_lexer": "ipython3",
   "version": "3.12.4"
  }
 },
 "nbformat": 4,
 "nbformat_minor": 5
}
