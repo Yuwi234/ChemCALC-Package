{
 "cells": [
  {
   "cell_type": "markdown",
   "id": "935fa6f3-4d66-4837-95cf-ded1d3e7e931",
   "metadata": {},
   "source": [
    "### Mass Balance Solver "
   ]
  },
  {
   "cell_type": "markdown",
   "id": "35415395-c9df-40c1-adb7-a9cef2cecc1b",
   "metadata": {},
   "source": [
    "Solves mass balance equations for steady-state systems"
   ]
  },
  {
   "cell_type": "code",
   "execution_count": 8,
   "id": "fe7e5ca0-fe72-4337-a9a1-87768a6bff66",
   "metadata": {},
   "outputs": [],
   "source": [
    "class MassBalanceSolver:\n",
    "    \"\"\"\n",
    "    A class to solve mass balance equations.\n",
    "    \"\"\"\n",
    "    @staticmethod\n",
    "    def solve(known_streams, equations):\n",
    "        \"\"\"\n",
    "        Solves mass balance equations for steady-state systems.\n",
    "\n",
    "        Parameters:\n",
    "            known_streams (dict): Known streams with flow rates and compositions.\n",
    "            equations (list): Mass balance equations in string form.\n",
    "\n",
    "        Returns:\n",
    "            dict: Solved streams.\n",
    "        \"\"\"\n",
    "        streams = known_streams.copy()\n",
    "        for eq in equations:\n",
    "            lhs, rhs = eq.split(\"=\")\n",
    "            lhs = lhs.strip()\n",
    "            rhs = rhs.strip()\n",
    "\n",
    "            if lhs in streams:\n",
    "                streams[rhs] = streams[lhs]\n",
    "            elif rhs in streams:\n",
    "                streams[lhs] = streams[rhs]\n",
    "            else:\n",
    "                lhs_value = eval(lhs, {}, streams)\n",
    "                rhs_value = eval(rhs, {}, streams)\n",
    "                if isinstance(lhs_value, (int, float)) and isinstance(rhs_value, str):\n",
    "                    streams[rhs_value] = lhs_value\n",
    "                else:\n",
    "                    streams[lhs_value] = lhs_value + 1\n",
    "        return streams\n"
   ]
  }
 ],
 "metadata": {
  "kernelspec": {
   "display_name": "Python 3 (ipykernel)",
   "language": "python",
   "name": "python3"
  },
  "language_info": {
   "codemirror_mode": {
    "name": "ipython",
    "version": 3
   },
   "file_extension": ".py",
   "mimetype": "text/x-python",
   "name": "python",
   "nbconvert_exporter": "python",
   "pygments_lexer": "ipython3",
   "version": "3.12.4"
  }
 },
 "nbformat": 4,
 "nbformat_minor": 5
}
